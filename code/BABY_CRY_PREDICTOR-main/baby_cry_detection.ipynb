{
  "cells": [
    {
      "cell_type": "code",
      "execution_count": 2,
      "metadata": {
        "id": "XEzEJw8lRElx"
      },
      "outputs": [
        {
          "name": "stdout",
          "output_type": "stream",
          "text": [
            "Model trained and saved as cry_classification_model.pkl.\n"
          ]
        }
      ],
      "source": [
        "from sklearn.ensemble import RandomForestClassifier\n",
        "import librosa\n",
        "import numpy as np\n",
        "import os\n",
        "import pickle\n",
        "\n",
        "# Define dataset folder (e.g., upload to Colab's file system)\n",
        "DATASET_DIR = \"C:/Users/JOHN WESLEY/Downloads/donateacry_corpus_cleaned_and_updated_data\"\n",
        "CATEGORIES = [\"tired\", \"hungry\", \"discomfort\", \"burping\", \"belly_pain\"]\n",
        "\n",
        "# Function to extract features from audio files\n",
        "def extract_features(dataset_dir, categories):\n",
        "    X, y = [], []\n",
        "    for idx, category in enumerate(categories):\n",
        "        folder_path = os.path.join(dataset_dir, category)\n",
        "        for file_name in os.listdir(folder_path):\n",
        "            file_path = os.path.join(folder_path, file_name)\n",
        "            if file_name.endswith('.wav'):\n",
        "                audio, _ = librosa.load(file_path, sr=22050, duration=5)\n",
        "                mfcc_features = librosa.feature.mfcc(y=audio, sr=22050, n_mfcc=20)\n",
        "                mfcc_mean = np.mean(mfcc_features.T, axis=0)\n",
        "                X.append(mfcc_mean)\n",
        "                y.append(idx)\n",
        "    return np.array(X), np.array(y)\n",
        "\n",
        "# Load dataset and extract features\n",
        "X, y = extract_features(DATASET_DIR, CATEGORIES)\n",
        "\n",
        "# Train a Random Forest model\n",
        "model = RandomForestClassifier()\n",
        "model.fit(X, y)\n",
        "\n",
        "# Save the model\n",
        "with open(\"cry_classification_model.pkl\", \"wb\") as file:\n",
        "    pickle.dump(model, file)\n",
        "\n",
        "print(\"Model trained and saved as cry_classification_model.pkl.\")\n"
      ]
    }
  ],
  "metadata": {
    "colab": {
      "provenance": []
    },
    "kernelspec": {
      "display_name": "venv",
      "language": "python",
      "name": "python3"
    },
    "language_info": {
      "codemirror_mode": {
        "name": "ipython",
        "version": 3
      },
      "file_extension": ".py",
      "mimetype": "text/x-python",
      "name": "python",
      "nbconvert_exporter": "python",
      "pygments_lexer": "ipython3",
      "version": "3.12.7"
    }
  },
  "nbformat": 4,
  "nbformat_minor": 0
}
